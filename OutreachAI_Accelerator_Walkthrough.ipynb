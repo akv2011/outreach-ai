{
 "cells": [
  {
   "cell_type": "markdown",
   "metadata": {},
   "source": [
    "# OutreachAI Accelerator: A Notebook Walkthrough\n",
    "**Author:** Malini\n",
    "**For:** Caprae Capital Partners - Intern Pre-Work"
   ]
  },
  {
   "cell_type": "markdown",
   "metadata": {},
   "source": [
    "**Objective:** This notebook deconstructs the core logic of the OutreachAI application. It demonstrates how a raw lead list is systematically enriched with a quantitative priority score and qualitative, AI-powered outreach messaging to create a high-impact tool for sales and M&A teams."
   ]
  },
  {
   "cell_type": "markdown",
   "metadata": {},
   "source": [
    "---\n",
    "\n",
    "## Part 1: The Problem - Unlocking Value from Flat Lead Lists\n",
    "\n",
    "The journey often begins with a simple, yet challenging, flat file: a CSV brimming with potential leads. However, in its raw state, this data offers limited immediate value. Sales and M&A teams face the considerable task of:\n",
    "1.  Identifying which leads are genuinely high-potential.\n",
    "2.  Researching each promising lead.\n",
    "3.  Crafting personalized outreach messages – a crucial step for cutting through the noise.\n",
    "\n",
    "Manual execution of these steps is incredibly time-consuming and doesn't scale. The alternative, generic mass outreach, typically yields low engagement and conversion rates. My OutreachAI application tackles this by automating the intelligence-gathering and initial message-crafting process.\n",
    "\n",
    "---"
   ]
  },
  {
   "cell_type": "markdown",
   "metadata": {},
   "source": [
    "## Part 2: The OutreachAI Solution - A Step-by-Step Breakdown\n",
    "\n",
    "OutreachAI transforms the raw CSV data into an actionable dashboard with enriched insights. Let's walk through the key processing stages:"
   ]
  },
  {
   "cell_type": "markdown",
   "metadata": {},
   "source": [
    "### Step 2.1: Data Ingestion and Parsing\n",
    "\n",
    "The process starts when the user uploads their SaaSquatch Enrichment CSV file. My application's backend then performs the following parsing and initial transformation:\n",
    "\n",
    "*   **File Reading:** The CSV content is read.\n",
    "*   **Header Identification:** Key headers (e.g., `Company`, `Website`, `Industry`, `Revenue`, `Employee Count`, `Owner's Title`, `Owner's Email`, `BBB Rating`, `City`, `State`) are identified.\n",
    "*   **Data Cleaning & Formatting:**\n",
    "    *   Revenue strings (e.g., \"4.7M\", \"500k\") are converted into numerical values representing millions.\n",
    "    *   Employee count is cleaned to a numerical value.\n",
    "    *   Location is derived by combining `City` and `State` if a direct `Location` column isn't present or is empty.\n",
    "*   **Unique ID Assignment:** Each lead is assigned a unique internal ID for tracking."
   ]
  },
  {
   "cell_type": "code",
   "metadata": {},
   "outputs": [],
   "source": [
    "# This is a conceptual representation of the parsing logic implemented in TypeScript in the actual application.\n",
    "# import pandas as pd # In actual app, custom CSV parsing logic is used.\n",
    "\n",
    "# def parse_revenue_to_millions(revenue_str):\n",
    "#     if not revenue_str or pd.isna(revenue_str): # Assuming pandas for isna for conceptual clarity\n",
    "#         return None\n",
    "#     num_str = str(revenue_str).lower().replace(',', '')\n",
    "#     value = float(''.join(filter(lambda x: x.isdigit() or x == '.', num_str)))\n",
    "#     if 'm' in num_str:\n",
    "#         return value\n",
    "#     elif 'k' in num_str:\n",
    "#         return value / 1000\n",
    "#     return value # Assuming it's already in millions if no suffix, or needs adjustment based on typical data scale\n",
    "\n",
    "# # Example data structure after parsing a row\n",
    "# raw_lead_data_example = {\n",
    "#     'Company': 'Catalytic', 'Website': 'https://catalytic.com/', 'Industry': 'Productivity/tech',\n",
    "#     'Employee Count': '14', 'Revenue': '450.8k', 'BBB Rating': 'A+',\n",
    "#     'City': 'Chicago', 'State': 'IL', \"Owner's Title\": 'Senior Designer', \"Owner's Email\": 'example@example.com'\n",
    "# }\n",
    "\n",
    "# transformed_lead = {\n",
    "#     'id': 'unique_lead_id_123',\n",
    "#     'companyName': raw_lead_data_example['Company'],\n",
    "#     'website': raw_lead_data_example['Website'],\n",
    "#     'industry': raw_lead_data_example['Industry'],\n",
    "#     'location': f\"{raw_lead_data_example['City']}, {raw_lead_data_example['State']}\",\n",
    "#     'revenue': parse_revenue_to_millions(raw_lead_data_example['Revenue']), # Becomes 0.4508\n",
    "#     'employeeCount': int(raw_lead_data_example['Employee Count']), # Becomes 14\n",
    "#     'title': raw_lead_data_example[\"Owner's Title\"],\n",
    "#     'ownerEmail': raw_lead_data_example[\"Owner's Email\"],\n",
    "#     'bbbRating': raw_lead_data_example['BBB Rating']\n",
    "# }"
   ]
  },
  {
   "cell_type": "markdown",
   "metadata": {},
   "source": [
    "### Step 2.2: Priority Scoring\n",
    "\n",
    "Once parsed, each lead is assigned a Priority Score (ranging from 0 to 100). This score is a quantitative measure of a lead's potential, calculated based on a weighted model:\n",
    "\n",
    "*   **Revenue:** Up to 30 points (higher revenue = more points).\n",
    "*   **Employee Count:** Up to 30 points (larger companies = more points).\n",
    "*   **Owner's Title:** Up to 20 points (C-suite/VP/Director titles score higher).\n",
    "*   **BBB Rating:** Up to 20 points (better ratings = more points).\n",
    "\n",
    "This scoring system allows users to quickly sort leads and focus on those with the highest potential. For transparency, the UI includes a tooltip that appears when hovering over the score, detailing the specific factors that contributed to that lead's score.\n",
    "\n",
    "**Conceptual Python-like Representation of Scoring Logic:**"
   ]
  },
  {
   "cell_type": "code",
   "metadata": {},
   "outputs": [],
   "source": [
    "# This is a conceptual representation of the scoring logic.\n",
    "# def calculate_priority_score(lead):\n",
    "#     score = 0\n",
    "#     explanations = []\n",
    "\n",
    "#     # Revenue scoring\n",
    "#     if lead.get('revenue'):\n",
    "#         if lead['revenue'] > 50: score += 30; explanations.append(f\"+30: High Revenue (${lead['revenue']}M)\")\n",
    "#         elif lead['revenue'] >= 10: score += 20; explanations.append(f\"+20: Significant Revenue (${lead['revenue']}M)\")\n",
    "#         elif lead['revenue'] >= 1: score += 10; explanations.append(f\"+10: Notable Revenue (${lead['revenue']}M)\")\n",
    "#     \n",
    "#     # Employee Count scoring\n",
    "#     if lead.get('employeeCount'):\n",
    "#         if lead['employeeCount'] > 500: score += 30; explanations.append(f\"+30: Large Employee Count ({lead['employeeCount']})\")\n",
    "#         # ... other employee tiers ...\n",
    "#     \n",
    "#     # Title scoring\n",
    "#     if lead.get('title'):\n",
    "#         title_lower = lead['title'].lower()\n",
    "#         if any(t in title_lower for t in ['ceo', 'founder', 'president']): score += 20; explanations.append(f\"+20: Key Title ({lead['title']})\")\n",
    "#         # ... other title tiers ...\n",
    "#     \n",
    "#     # BBB Rating scoring\n",
    "#     if lead.get('bbbRating') and lead['bbbRating'] not in ['N/A', '']:\n",
    "#         if lead['bbbRating'] == 'A+': score += 20; explanations.append(f\"+20: Excellent BBB Rating ({lead['bbbRating']})\")\n",
    "#         # ... other BBB tiers ...\n",
    "\n",
    "#     if not explanations: explanations.append(\"No specific scoring factors met.\")\n",
    "#     return {\"total\": min(score, 100), \"breakdown\": {\"explanations\": explanations}}\n",
    "\n",
    "# # Example usage:\n",
    "# # for lead in all_transformed_leads:\n",
    "# #     lead['priorityScoreInfo'] = calculate_priority_score(lead)\n",
    "# #\n",
    "# # # Leads are then sorted by 'priorityScoreInfo.total' in descending order in the UI."
   ]
  },
  {
   "cell_type": "markdown",
   "metadata": {},
   "source": [
    "### Step 2.3: AI-Powered Qualitative Enrichment\n",
    "\n",
    "Beyond quantitative scoring, OutreachAI leverages Google's Gemini 2.0 Flash model (via Genkit) to provide qualitative enrichment in the form of personalized outreach message components."
   ]
  },
  {
   "cell_type": "markdown",
   "metadata": {},
   "source": [
    "#### Customizable AI Persona\n",
    "\n",
    "Before generating messages, the user can specify their \"Sales Goal / Product Focus\" (e.g., \"Selling an AI-powered accounting automation tool\"). This user-defined context is then dynamically included in the prompts sent to the AI, ensuring the generated content is tailored and relevant to the user's specific campaign."
   ]
  }
 ],
 "metadata": {},
 "nbformat": 4,
 "nbformat_minor": 5
}
